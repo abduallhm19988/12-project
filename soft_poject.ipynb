{
  "nbformat": 4,
  "nbformat_minor": 0,
  "metadata": {
    "colab": {
      "provenance": [],
      "include_colab_link": true
    },
    "kernelspec": {
      "name": "python3",
      "display_name": "Python 3"
    },
    "language_info": {
      "name": "python"
    }
  },
  "cells": [
    {
      "cell_type": "markdown",
      "metadata": {
        "id": "view-in-github",
        "colab_type": "text"
      },
      "source": [
        "<a href=\"https://colab.research.google.com/github/abduallhm19988/12-project/blob/main/soft_poject.ipynb\" target=\"_parent\"><img src=\"https://colab.research.google.com/assets/colab-badge.svg\" alt=\"Open In Colab\"/></a>"
      ]
    },
    {
      "cell_type": "code",
      "execution_count": null,
      "metadata": {
        "id": "xECb5gUUxtvP"
      },
      "outputs": [],
      "source": [
        "# Importing dependencies\n",
        "import numpy as np\n",
        "import pandas as pd\n",
        "import matplotlib.pyplot as plt\n",
        "from sklearn.model_selection import train_test_split\n",
        "from sklearn.preprocessing import MinMaxScaler\n",
        "from sklearn.metrics import mean_squared_error, classification_report, confusion_matrix, ConfusionMatrixDisplay\n",
        "from scipy import stats\n",
        "from sklearn.feature_selection import mutual_info_classif\n",
        "from sklearn.svm import SVC\n",
        "from sklearn.metrics import accuracy_score\n",
        "from google.colab import drive\n",
        "SEED=30\n"
      ]
    },
    {
      "cell_type": "code",
      "source": [
        "# Load the dataset\n",
        "data = pd.read_csv('/content/TUANDROMD.csv')\n",
        "\n",
        "# Define class labels\n",
        "classes = {0: 'Goodware', 1: 'Malware'}\n",
        "\n",
        "# Display value counts of target variable\n",
        "print(data['Label'].value_counts())\n"
      ],
      "metadata": {
        "id": "VKgJgezMjclk",
        "colab": {
          "base_uri": "https://localhost:8080/"
        },
        "outputId": "0a94a52c-8725-4269-83e4-d0b638280577"
      },
      "execution_count": null,
      "outputs": [
        {
          "output_type": "stream",
          "name": "stdout",
          "text": [
            "Label\n",
            "1.0    3565\n",
            "0.0     899\n",
            "Name: count, dtype: int64\n"
          ]
        }
      ]
    },
    {
      "cell_type": "code",
      "source": [
        "# Display the first few rows of the dataset\n",
        "data.head()\n",
        "\n"
      ],
      "metadata": {
        "colab": {
          "base_uri": "https://localhost:8080/",
          "height": 273
        },
        "id": "UHiV4M2fzvJh",
        "outputId": "ad003612-b94a-4f7f-fbad-ec7cecfecf46"
      },
      "execution_count": null,
      "outputs": [
        {
          "output_type": "execute_result",
          "data": {
            "text/plain": [
              "   ACCESS_ALL_DOWNLOADS  ACCESS_CACHE_FILESYSTEM  ACCESS_CHECKIN_PROPERTIES  \\\n",
              "0                   0.0                      0.0                        0.0   \n",
              "1                   0.0                      0.0                        0.0   \n",
              "2                   0.0                      0.0                        0.0   \n",
              "3                   0.0                      0.0                        0.0   \n",
              "4                   0.0                      0.0                        0.0   \n",
              "\n",
              "   ACCESS_COARSE_LOCATION  ACCESS_COARSE_UPDATES  ACCESS_FINE_LOCATION  \\\n",
              "0                     0.0                    0.0                   0.0   \n",
              "1                     0.0                    0.0                   0.0   \n",
              "2                     0.0                    0.0                   0.0   \n",
              "3                     0.0                    0.0                   0.0   \n",
              "4                     0.0                    0.0                   0.0   \n",
              "\n",
              "   ACCESS_LOCATION_EXTRA_COMMANDS  ACCESS_MOCK_LOCATION  ACCESS_MTK_MMHW  \\\n",
              "0                             0.0                   0.0              0.0   \n",
              "1                             0.0                   0.0              0.0   \n",
              "2                             0.0                   0.0              0.0   \n",
              "3                             0.0                   0.0              0.0   \n",
              "4                             0.0                   0.0              0.0   \n",
              "\n",
              "   ACCESS_NETWORK_STATE  ...  \\\n",
              "0                   1.0  ...   \n",
              "1                   1.0  ...   \n",
              "2                   1.0  ...   \n",
              "3                   0.0  ...   \n",
              "4                   0.0  ...   \n",
              "\n",
              "   Landroid/telephony/TelephonyManager;->getLine1Number  \\\n",
              "0                                                1.0      \n",
              "1                                                0.0      \n",
              "2                                                0.0      \n",
              "3                                                0.0      \n",
              "4                                                0.0      \n",
              "\n",
              "   Landroid/telephony/TelephonyManager;->getNetworkOperator  \\\n",
              "0                                                1.0          \n",
              "1                                                0.0          \n",
              "2                                                0.0          \n",
              "3                                                1.0          \n",
              "4                                                0.0          \n",
              "\n",
              "   Landroid/telephony/TelephonyManager;->getNetworkOperatorName  \\\n",
              "0                                                1.0              \n",
              "1                                                0.0              \n",
              "2                                                0.0              \n",
              "3                                                1.0              \n",
              "4                                                0.0              \n",
              "\n",
              "   Landroid/telephony/TelephonyManager;->getNetworkCountryIso  \\\n",
              "0                                                0.0            \n",
              "1                                                1.0            \n",
              "2                                                0.0            \n",
              "3                                                1.0            \n",
              "4                                                0.0            \n",
              "\n",
              "   Landroid/telephony/TelephonyManager;->getSimOperator  \\\n",
              "0                                                0.0      \n",
              "1                                                0.0      \n",
              "2                                                0.0      \n",
              "3                                                1.0      \n",
              "4                                                0.0      \n",
              "\n",
              "   Landroid/telephony/TelephonyManager;->getSimOperatorName  \\\n",
              "0                                                0.0          \n",
              "1                                                0.0          \n",
              "2                                                0.0          \n",
              "3                                                0.0          \n",
              "4                                                0.0          \n",
              "\n",
              "   Landroid/telephony/TelephonyManager;->getSimCountryIso  \\\n",
              "0                                                0.0        \n",
              "1                                                1.0        \n",
              "2                                                0.0        \n",
              "3                                                1.0        \n",
              "4                                                0.0        \n",
              "\n",
              "   Landroid/telephony/TelephonyManager;->getSimSerialNumber  \\\n",
              "0                                                0.0          \n",
              "1                                                0.0          \n",
              "2                                                0.0          \n",
              "3                                                0.0          \n",
              "4                                                0.0          \n",
              "\n",
              "   Lorg/apache/http/impl/client/DefaultHttpClient;->execute  Label  \n",
              "0                                                1.0           1.0  \n",
              "1                                                0.0           1.0  \n",
              "2                                                0.0           1.0  \n",
              "3                                                0.0           1.0  \n",
              "4                                                0.0           1.0  \n",
              "\n",
              "[5 rows x 242 columns]"
            ],
            "text/html": [
              "\n",
              "  <div id=\"df-dcc4f2be-f7b3-46ed-a8ab-48aca1990ee7\" class=\"colab-df-container\">\n",
              "    <div>\n",
              "<style scoped>\n",
              "    .dataframe tbody tr th:only-of-type {\n",
              "        vertical-align: middle;\n",
              "    }\n",
              "\n",
              "    .dataframe tbody tr th {\n",
              "        vertical-align: top;\n",
              "    }\n",
              "\n",
              "    .dataframe thead th {\n",
              "        text-align: right;\n",
              "    }\n",
              "</style>\n",
              "<table border=\"1\" class=\"dataframe\">\n",
              "  <thead>\n",
              "    <tr style=\"text-align: right;\">\n",
              "      <th></th>\n",
              "      <th>ACCESS_ALL_DOWNLOADS</th>\n",
              "      <th>ACCESS_CACHE_FILESYSTEM</th>\n",
              "      <th>ACCESS_CHECKIN_PROPERTIES</th>\n",
              "      <th>ACCESS_COARSE_LOCATION</th>\n",
              "      <th>ACCESS_COARSE_UPDATES</th>\n",
              "      <th>ACCESS_FINE_LOCATION</th>\n",
              "      <th>ACCESS_LOCATION_EXTRA_COMMANDS</th>\n",
              "      <th>ACCESS_MOCK_LOCATION</th>\n",
              "      <th>ACCESS_MTK_MMHW</th>\n",
              "      <th>ACCESS_NETWORK_STATE</th>\n",
              "      <th>...</th>\n",
              "      <th>Landroid/telephony/TelephonyManager;-&gt;getLine1Number</th>\n",
              "      <th>Landroid/telephony/TelephonyManager;-&gt;getNetworkOperator</th>\n",
              "      <th>Landroid/telephony/TelephonyManager;-&gt;getNetworkOperatorName</th>\n",
              "      <th>Landroid/telephony/TelephonyManager;-&gt;getNetworkCountryIso</th>\n",
              "      <th>Landroid/telephony/TelephonyManager;-&gt;getSimOperator</th>\n",
              "      <th>Landroid/telephony/TelephonyManager;-&gt;getSimOperatorName</th>\n",
              "      <th>Landroid/telephony/TelephonyManager;-&gt;getSimCountryIso</th>\n",
              "      <th>Landroid/telephony/TelephonyManager;-&gt;getSimSerialNumber</th>\n",
              "      <th>Lorg/apache/http/impl/client/DefaultHttpClient;-&gt;execute</th>\n",
              "      <th>Label</th>\n",
              "    </tr>\n",
              "  </thead>\n",
              "  <tbody>\n",
              "    <tr>\n",
              "      <th>0</th>\n",
              "      <td>0.0</td>\n",
              "      <td>0.0</td>\n",
              "      <td>0.0</td>\n",
              "      <td>0.0</td>\n",
              "      <td>0.0</td>\n",
              "      <td>0.0</td>\n",
              "      <td>0.0</td>\n",
              "      <td>0.0</td>\n",
              "      <td>0.0</td>\n",
              "      <td>1.0</td>\n",
              "      <td>...</td>\n",
              "      <td>1.0</td>\n",
              "      <td>1.0</td>\n",
              "      <td>1.0</td>\n",
              "      <td>0.0</td>\n",
              "      <td>0.0</td>\n",
              "      <td>0.0</td>\n",
              "      <td>0.0</td>\n",
              "      <td>0.0</td>\n",
              "      <td>1.0</td>\n",
              "      <td>1.0</td>\n",
              "    </tr>\n",
              "    <tr>\n",
              "      <th>1</th>\n",
              "      <td>0.0</td>\n",
              "      <td>0.0</td>\n",
              "      <td>0.0</td>\n",
              "      <td>0.0</td>\n",
              "      <td>0.0</td>\n",
              "      <td>0.0</td>\n",
              "      <td>0.0</td>\n",
              "      <td>0.0</td>\n",
              "      <td>0.0</td>\n",
              "      <td>1.0</td>\n",
              "      <td>...</td>\n",
              "      <td>0.0</td>\n",
              "      <td>0.0</td>\n",
              "      <td>0.0</td>\n",
              "      <td>1.0</td>\n",
              "      <td>0.0</td>\n",
              "      <td>0.0</td>\n",
              "      <td>1.0</td>\n",
              "      <td>0.0</td>\n",
              "      <td>0.0</td>\n",
              "      <td>1.0</td>\n",
              "    </tr>\n",
              "    <tr>\n",
              "      <th>2</th>\n",
              "      <td>0.0</td>\n",
              "      <td>0.0</td>\n",
              "      <td>0.0</td>\n",
              "      <td>0.0</td>\n",
              "      <td>0.0</td>\n",
              "      <td>0.0</td>\n",
              "      <td>0.0</td>\n",
              "      <td>0.0</td>\n",
              "      <td>0.0</td>\n",
              "      <td>1.0</td>\n",
              "      <td>...</td>\n",
              "      <td>0.0</td>\n",
              "      <td>0.0</td>\n",
              "      <td>0.0</td>\n",
              "      <td>0.0</td>\n",
              "      <td>0.0</td>\n",
              "      <td>0.0</td>\n",
              "      <td>0.0</td>\n",
              "      <td>0.0</td>\n",
              "      <td>0.0</td>\n",
              "      <td>1.0</td>\n",
              "    </tr>\n",
              "    <tr>\n",
              "      <th>3</th>\n",
              "      <td>0.0</td>\n",
              "      <td>0.0</td>\n",
              "      <td>0.0</td>\n",
              "      <td>0.0</td>\n",
              "      <td>0.0</td>\n",
              "      <td>0.0</td>\n",
              "      <td>0.0</td>\n",
              "      <td>0.0</td>\n",
              "      <td>0.0</td>\n",
              "      <td>0.0</td>\n",
              "      <td>...</td>\n",
              "      <td>0.0</td>\n",
              "      <td>1.0</td>\n",
              "      <td>1.0</td>\n",
              "      <td>1.0</td>\n",
              "      <td>1.0</td>\n",
              "      <td>0.0</td>\n",
              "      <td>1.0</td>\n",
              "      <td>0.0</td>\n",
              "      <td>0.0</td>\n",
              "      <td>1.0</td>\n",
              "    </tr>\n",
              "    <tr>\n",
              "      <th>4</th>\n",
              "      <td>0.0</td>\n",
              "      <td>0.0</td>\n",
              "      <td>0.0</td>\n",
              "      <td>0.0</td>\n",
              "      <td>0.0</td>\n",
              "      <td>0.0</td>\n",
              "      <td>0.0</td>\n",
              "      <td>0.0</td>\n",
              "      <td>0.0</td>\n",
              "      <td>0.0</td>\n",
              "      <td>...</td>\n",
              "      <td>0.0</td>\n",
              "      <td>0.0</td>\n",
              "      <td>0.0</td>\n",
              "      <td>0.0</td>\n",
              "      <td>0.0</td>\n",
              "      <td>0.0</td>\n",
              "      <td>0.0</td>\n",
              "      <td>0.0</td>\n",
              "      <td>0.0</td>\n",
              "      <td>1.0</td>\n",
              "    </tr>\n",
              "  </tbody>\n",
              "</table>\n",
              "<p>5 rows × 242 columns</p>\n",
              "</div>\n",
              "    <div class=\"colab-df-buttons\">\n",
              "\n",
              "  <div class=\"colab-df-container\">\n",
              "    <button class=\"colab-df-convert\" onclick=\"convertToInteractive('df-dcc4f2be-f7b3-46ed-a8ab-48aca1990ee7')\"\n",
              "            title=\"Convert this dataframe to an interactive table.\"\n",
              "            style=\"display:none;\">\n",
              "\n",
              "  <svg xmlns=\"http://www.w3.org/2000/svg\" height=\"24px\" viewBox=\"0 -960 960 960\">\n",
              "    <path d=\"M120-120v-720h720v720H120Zm60-500h600v-160H180v160Zm220 220h160v-160H400v160Zm0 220h160v-160H400v160ZM180-400h160v-160H180v160Zm440 0h160v-160H620v160ZM180-180h160v-160H180v160Zm440 0h160v-160H620v160Z\"/>\n",
              "  </svg>\n",
              "    </button>\n",
              "\n",
              "  <style>\n",
              "    .colab-df-container {\n",
              "      display:flex;\n",
              "      gap: 12px;\n",
              "    }\n",
              "\n",
              "    .colab-df-convert {\n",
              "      background-color: #E8F0FE;\n",
              "      border: none;\n",
              "      border-radius: 50%;\n",
              "      cursor: pointer;\n",
              "      display: none;\n",
              "      fill: #1967D2;\n",
              "      height: 32px;\n",
              "      padding: 0 0 0 0;\n",
              "      width: 32px;\n",
              "    }\n",
              "\n",
              "    .colab-df-convert:hover {\n",
              "      background-color: #E2EBFA;\n",
              "      box-shadow: 0px 1px 2px rgba(60, 64, 67, 0.3), 0px 1px 3px 1px rgba(60, 64, 67, 0.15);\n",
              "      fill: #174EA6;\n",
              "    }\n",
              "\n",
              "    .colab-df-buttons div {\n",
              "      margin-bottom: 4px;\n",
              "    }\n",
              "\n",
              "    [theme=dark] .colab-df-convert {\n",
              "      background-color: #3B4455;\n",
              "      fill: #D2E3FC;\n",
              "    }\n",
              "\n",
              "    [theme=dark] .colab-df-convert:hover {\n",
              "      background-color: #434B5C;\n",
              "      box-shadow: 0px 1px 3px 1px rgba(0, 0, 0, 0.15);\n",
              "      filter: drop-shadow(0px 1px 2px rgba(0, 0, 0, 0.3));\n",
              "      fill: #FFFFFF;\n",
              "    }\n",
              "  </style>\n",
              "\n",
              "    <script>\n",
              "      const buttonEl =\n",
              "        document.querySelector('#df-dcc4f2be-f7b3-46ed-a8ab-48aca1990ee7 button.colab-df-convert');\n",
              "      buttonEl.style.display =\n",
              "        google.colab.kernel.accessAllowed ? 'block' : 'none';\n",
              "\n",
              "      async function convertToInteractive(key) {\n",
              "        const element = document.querySelector('#df-dcc4f2be-f7b3-46ed-a8ab-48aca1990ee7');\n",
              "        const dataTable =\n",
              "          await google.colab.kernel.invokeFunction('convertToInteractive',\n",
              "                                                    [key], {});\n",
              "        if (!dataTable) return;\n",
              "\n",
              "        const docLinkHtml = 'Like what you see? Visit the ' +\n",
              "          '<a target=\"_blank\" href=https://colab.research.google.com/notebooks/data_table.ipynb>data table notebook</a>'\n",
              "          + ' to learn more about interactive tables.';\n",
              "        element.innerHTML = '';\n",
              "        dataTable['output_type'] = 'display_data';\n",
              "        await google.colab.output.renderOutput(dataTable, element);\n",
              "        const docLink = document.createElement('div');\n",
              "        docLink.innerHTML = docLinkHtml;\n",
              "        element.appendChild(docLink);\n",
              "      }\n",
              "    </script>\n",
              "  </div>\n",
              "\n",
              "\n",
              "<div id=\"df-adcc79f5-1c40-44e1-a129-2fa4ebeb11c2\">\n",
              "  <button class=\"colab-df-quickchart\" onclick=\"quickchart('df-adcc79f5-1c40-44e1-a129-2fa4ebeb11c2')\"\n",
              "            title=\"Suggest charts\"\n",
              "            style=\"display:none;\">\n",
              "\n",
              "<svg xmlns=\"http://www.w3.org/2000/svg\" height=\"24px\"viewBox=\"0 0 24 24\"\n",
              "     width=\"24px\">\n",
              "    <g>\n",
              "        <path d=\"M19 3H5c-1.1 0-2 .9-2 2v14c0 1.1.9 2 2 2h14c1.1 0 2-.9 2-2V5c0-1.1-.9-2-2-2zM9 17H7v-7h2v7zm4 0h-2V7h2v10zm4 0h-2v-4h2v4z\"/>\n",
              "    </g>\n",
              "</svg>\n",
              "  </button>\n",
              "\n",
              "<style>\n",
              "  .colab-df-quickchart {\n",
              "      --bg-color: #E8F0FE;\n",
              "      --fill-color: #1967D2;\n",
              "      --hover-bg-color: #E2EBFA;\n",
              "      --hover-fill-color: #174EA6;\n",
              "      --disabled-fill-color: #AAA;\n",
              "      --disabled-bg-color: #DDD;\n",
              "  }\n",
              "\n",
              "  [theme=dark] .colab-df-quickchart {\n",
              "      --bg-color: #3B4455;\n",
              "      --fill-color: #D2E3FC;\n",
              "      --hover-bg-color: #434B5C;\n",
              "      --hover-fill-color: #FFFFFF;\n",
              "      --disabled-bg-color: #3B4455;\n",
              "      --disabled-fill-color: #666;\n",
              "  }\n",
              "\n",
              "  .colab-df-quickchart {\n",
              "    background-color: var(--bg-color);\n",
              "    border: none;\n",
              "    border-radius: 50%;\n",
              "    cursor: pointer;\n",
              "    display: none;\n",
              "    fill: var(--fill-color);\n",
              "    height: 32px;\n",
              "    padding: 0;\n",
              "    width: 32px;\n",
              "  }\n",
              "\n",
              "  .colab-df-quickchart:hover {\n",
              "    background-color: var(--hover-bg-color);\n",
              "    box-shadow: 0 1px 2px rgba(60, 64, 67, 0.3), 0 1px 3px 1px rgba(60, 64, 67, 0.15);\n",
              "    fill: var(--button-hover-fill-color);\n",
              "  }\n",
              "\n",
              "  .colab-df-quickchart-complete:disabled,\n",
              "  .colab-df-quickchart-complete:disabled:hover {\n",
              "    background-color: var(--disabled-bg-color);\n",
              "    fill: var(--disabled-fill-color);\n",
              "    box-shadow: none;\n",
              "  }\n",
              "\n",
              "  .colab-df-spinner {\n",
              "    border: 2px solid var(--fill-color);\n",
              "    border-color: transparent;\n",
              "    border-bottom-color: var(--fill-color);\n",
              "    animation:\n",
              "      spin 1s steps(1) infinite;\n",
              "  }\n",
              "\n",
              "  @keyframes spin {\n",
              "    0% {\n",
              "      border-color: transparent;\n",
              "      border-bottom-color: var(--fill-color);\n",
              "      border-left-color: var(--fill-color);\n",
              "    }\n",
              "    20% {\n",
              "      border-color: transparent;\n",
              "      border-left-color: var(--fill-color);\n",
              "      border-top-color: var(--fill-color);\n",
              "    }\n",
              "    30% {\n",
              "      border-color: transparent;\n",
              "      border-left-color: var(--fill-color);\n",
              "      border-top-color: var(--fill-color);\n",
              "      border-right-color: var(--fill-color);\n",
              "    }\n",
              "    40% {\n",
              "      border-color: transparent;\n",
              "      border-right-color: var(--fill-color);\n",
              "      border-top-color: var(--fill-color);\n",
              "    }\n",
              "    60% {\n",
              "      border-color: transparent;\n",
              "      border-right-color: var(--fill-color);\n",
              "    }\n",
              "    80% {\n",
              "      border-color: transparent;\n",
              "      border-right-color: var(--fill-color);\n",
              "      border-bottom-color: var(--fill-color);\n",
              "    }\n",
              "    90% {\n",
              "      border-color: transparent;\n",
              "      border-bottom-color: var(--fill-color);\n",
              "    }\n",
              "  }\n",
              "</style>\n",
              "\n",
              "  <script>\n",
              "    async function quickchart(key) {\n",
              "      const quickchartButtonEl =\n",
              "        document.querySelector('#' + key + ' button');\n",
              "      quickchartButtonEl.disabled = true;  // To prevent multiple clicks.\n",
              "      quickchartButtonEl.classList.add('colab-df-spinner');\n",
              "      try {\n",
              "        const charts = await google.colab.kernel.invokeFunction(\n",
              "            'suggestCharts', [key], {});\n",
              "      } catch (error) {\n",
              "        console.error('Error during call to suggestCharts:', error);\n",
              "      }\n",
              "      quickchartButtonEl.classList.remove('colab-df-spinner');\n",
              "      quickchartButtonEl.classList.add('colab-df-quickchart-complete');\n",
              "    }\n",
              "    (() => {\n",
              "      let quickchartButtonEl =\n",
              "        document.querySelector('#df-adcc79f5-1c40-44e1-a129-2fa4ebeb11c2 button');\n",
              "      quickchartButtonEl.style.display =\n",
              "        google.colab.kernel.accessAllowed ? 'block' : 'none';\n",
              "    })();\n",
              "  </script>\n",
              "</div>\n",
              "\n",
              "    </div>\n",
              "  </div>\n"
            ],
            "application/vnd.google.colaboratory.intrinsic+json": {
              "type": "dataframe",
              "variable_name": "data"
            }
          },
          "metadata": {},
          "execution_count": 112
        }
      ]
    },
    {
      "cell_type": "code",
      "source": [
        "data.dtypes"
      ],
      "metadata": {
        "colab": {
          "base_uri": "https://localhost:8080/"
        },
        "id": "LpGYVEM0ddOB",
        "outputId": "3cd287e9-5dd7-4dea-d6da-042fc6cefe60"
      },
      "execution_count": null,
      "outputs": [
        {
          "output_type": "execute_result",
          "data": {
            "text/plain": [
              "ACCESS_ALL_DOWNLOADS                                        float64\n",
              "ACCESS_CACHE_FILESYSTEM                                     float64\n",
              "ACCESS_CHECKIN_PROPERTIES                                   float64\n",
              "ACCESS_COARSE_LOCATION                                      float64\n",
              "ACCESS_COARSE_UPDATES                                       float64\n",
              "                                                             ...   \n",
              "Landroid/telephony/TelephonyManager;->getSimOperatorName    float64\n",
              "Landroid/telephony/TelephonyManager;->getSimCountryIso      float64\n",
              "Landroid/telephony/TelephonyManager;->getSimSerialNumber    float64\n",
              "Lorg/apache/http/impl/client/DefaultHttpClient;->execute    float64\n",
              "Label                                                       float64\n",
              "Length: 242, dtype: object"
            ]
          },
          "metadata": {},
          "execution_count": 113
        }
      ]
    },
    {
      "cell_type": "code",
      "source": [
        "\n",
        "classes = {0: 'Goodware', 1: 'Malware'}\n",
        "data['Label'].value_counts()\n",
        "\n"
      ],
      "metadata": {
        "colab": {
          "base_uri": "https://localhost:8080/"
        },
        "id": "ZlvZTQE73dEj",
        "outputId": "42f9746d-b6e3-4b65-bc75-ec27103ae140"
      },
      "execution_count": null,
      "outputs": [
        {
          "output_type": "execute_result",
          "data": {
            "text/plain": [
              "Label\n",
              "1.0    3565\n",
              "0.0     899\n",
              "Name: count, dtype: int64"
            ]
          },
          "metadata": {},
          "execution_count": 114
        }
      ]
    },
    {
      "cell_type": "code",
      "source": [
        "data.info()"
      ],
      "metadata": {
        "colab": {
          "base_uri": "https://localhost:8080/"
        },
        "id": "RT93b9Ws4L1Y",
        "outputId": "8a327a93-c69e-4baf-cec0-05c8dcdbadd7"
      },
      "execution_count": null,
      "outputs": [
        {
          "output_type": "stream",
          "name": "stdout",
          "text": [
            "<class 'pandas.core.frame.DataFrame'>\n",
            "RangeIndex: 4465 entries, 0 to 4464\n",
            "Columns: 242 entries, ACCESS_ALL_DOWNLOADS to Label\n",
            "dtypes: float64(242)\n",
            "memory usage: 8.2 MB\n"
          ]
        }
      ]
    },
    {
      "cell_type": "code",
      "source": [
        "# total null elements\n",
        "\n",
        "data.isnull().sum()[data.isnull().sum() > 0]"
      ],
      "metadata": {
        "colab": {
          "base_uri": "https://localhost:8080/"
        },
        "id": "HJJGmMrT6OQc",
        "outputId": "85c6446a-5f36-4e0e-d641-448a417222c3"
      },
      "execution_count": null,
      "outputs": [
        {
          "output_type": "execute_result",
          "data": {
            "text/plain": [
              "ACCESS_ALL_DOWNLOADS                                        1\n",
              "ACCESS_CACHE_FILESYSTEM                                     1\n",
              "ACCESS_CHECKIN_PROPERTIES                                   1\n",
              "ACCESS_COARSE_LOCATION                                      1\n",
              "ACCESS_COARSE_UPDATES                                       1\n",
              "                                                           ..\n",
              "Landroid/telephony/TelephonyManager;->getSimOperatorName    1\n",
              "Landroid/telephony/TelephonyManager;->getSimCountryIso      1\n",
              "Landroid/telephony/TelephonyManager;->getSimSerialNumber    1\n",
              "Lorg/apache/http/impl/client/DefaultHttpClient;->execute    1\n",
              "Label                                                       1\n",
              "Length: 242, dtype: int64"
            ]
          },
          "metadata": {},
          "execution_count": 116
        }
      ]
    },
    {
      "cell_type": "code",
      "source": [
        "# Drop rows with missing values\n",
        "data.dropna(inplace=True)\n",
        "\n"
      ],
      "metadata": {
        "id": "2PpuJ6Se6P2i"
      },
      "execution_count": null,
      "outputs": []
    },
    {
      "cell_type": "code",
      "source": [
        "\n",
        "# Separate features and target variable\n",
        "X = data.drop('Label', axis=1)\n",
        "y = data['Label']"
      ],
      "metadata": {
        "id": "cU2Mz1Jz6znw"
      },
      "execution_count": null,
      "outputs": []
    },
    {
      "cell_type": "markdown",
      "source": [
        "Feature Importance"
      ],
      "metadata": {
        "id": "3Dw01xO87bgk"
      }
    },
    {
      "cell_type": "code",
      "source": [
        "# Calculate feature importance using Mutual Information and Point-Biserial correlation\n",
        "point_biserial_coefs = []\n",
        "for i in range(X.shape[1]):\n",
        "    coef = stats.pointbiserialr(X.iloc[:, i], y)[0]\n",
        "    point_biserial_coefs.append(coef)\n",
        "\n",
        "mutual_inf = mutual_info_classif(X, y)"
      ],
      "metadata": {
        "id": "isLc1VTG7amr",
        "colab": {
          "base_uri": "https://localhost:8080/"
        },
        "outputId": "48956349-61b3-4ad1-80ee-e120089a5a7d"
      },
      "execution_count": null,
      "outputs": [
        {
          "output_type": "stream",
          "name": "stderr",
          "text": [
            "/usr/local/lib/python3.10/dist-packages/scipy/stats/_stats_py.py:4781: ConstantInputWarning: An input array is constant; the correlation coefficient is not defined.\n",
            "  warnings.warn(stats.ConstantInputWarning(msg))\n"
          ]
        }
      ]
    },
    {
      "cell_type": "code",
      "source": [
        "# Create a DataFrame to store feature importance\n",
        "feature_importance = pd.DataFrame({'Mutual Inf': mutual_inf, 'Point-BiSerial': point_biserial_coefs}, index=X.columns)"
      ],
      "metadata": {
        "id": "5JNACEnc9YpO"
      },
      "execution_count": null,
      "outputs": []
    },
    {
      "cell_type": "code",
      "source": [
        "# Sort feature importance based on 'Point-BiSerial' column in descending order\n",
        "sorted_feature_importance = feature_importance.sort_values(by='Point-BiSerial', ascending=False)\n",
        "\n",
        "print(sorted_feature_importance)"
      ],
      "metadata": {
        "id": "qHoIrcms9bs4",
        "colab": {
          "base_uri": "https://localhost:8080/"
        },
        "outputId": "74b43fe8-d187-4c1d-b0ca-038b960b25eb"
      },
      "execution_count": null,
      "outputs": [
        {
          "output_type": "stream",
          "name": "stdout",
          "text": [
            "                           Mutual Inf  Point-BiSerial\n",
            "RECEIVE_BOOT_COMPLETED       0.239490        0.760417\n",
            "GET_TASKS                    0.158630        0.563214\n",
            "WAKE_LOCK                    0.090388        0.472105\n",
            "KILL_BACKGROUND_PROCESSES    0.106254        0.438312\n",
            "SYSTEM_ALERT_WINDOW          0.045666        0.281178\n",
            "...                               ...             ...\n",
            "SEND                         0.000000             NaN\n",
            "WRITE                        0.000000             NaN\n",
            "WRITE_AVSETTING              0.000000             NaN\n",
            "WRITE_DATA                   0.000314             NaN\n",
            "WRITE_DATABASES              0.002007             NaN\n",
            "\n",
            "[241 rows x 2 columns]\n"
          ]
        }
      ]
    },
    {
      "cell_type": "code",
      "source": [
        "feature_importance.sort_values(by = 'Mutual Inf', ascending = False)\n"
      ],
      "metadata": {
        "id": "dKRLrWOW9lOO",
        "colab": {
          "base_uri": "https://localhost:8080/",
          "height": 423
        },
        "outputId": "98b0b716-f7e9-4aaf-efb9-a92865c09e18"
      },
      "execution_count": null,
      "outputs": [
        {
          "output_type": "execute_result",
          "data": {
            "text/plain": [
              "                                                    Mutual Inf  Point-BiSerial\n",
              "RECEIVE_BOOT_COMPLETED                                0.239490        0.760417\n",
              "Ljava/net/URL;->openConnection                        0.208664       -0.712211\n",
              "Landroid/location/LocationManager;->getLastK0wn...    0.174803       -0.653875\n",
              "GET_TASKS                                             0.158630        0.563214\n",
              "KILL_BACKGROUND_PROCESSES                             0.106254        0.438312\n",
              "...                                                        ...             ...\n",
              "MOUNT_FORMAT_FILESYSTEMS                              0.000000        0.063799\n",
              "MODIFY_PHONE_STATE                                    0.000000        0.026908\n",
              "MEDIA_CONTENT_CONTROL                                 0.000000        0.015230\n",
              "JPUSH_MESSAGE                                         0.000000             NaN\n",
              "Lorg/apache/http/impl/client/DefaultHttpClient;...    0.000000       -0.001673\n",
              "\n",
              "[241 rows x 2 columns]"
            ],
            "text/html": [
              "\n",
              "  <div id=\"df-82de9400-5bae-4f57-897f-53daff75356f\" class=\"colab-df-container\">\n",
              "    <div>\n",
              "<style scoped>\n",
              "    .dataframe tbody tr th:only-of-type {\n",
              "        vertical-align: middle;\n",
              "    }\n",
              "\n",
              "    .dataframe tbody tr th {\n",
              "        vertical-align: top;\n",
              "    }\n",
              "\n",
              "    .dataframe thead th {\n",
              "        text-align: right;\n",
              "    }\n",
              "</style>\n",
              "<table border=\"1\" class=\"dataframe\">\n",
              "  <thead>\n",
              "    <tr style=\"text-align: right;\">\n",
              "      <th></th>\n",
              "      <th>Mutual Inf</th>\n",
              "      <th>Point-BiSerial</th>\n",
              "    </tr>\n",
              "  </thead>\n",
              "  <tbody>\n",
              "    <tr>\n",
              "      <th>RECEIVE_BOOT_COMPLETED</th>\n",
              "      <td>0.239490</td>\n",
              "      <td>0.760417</td>\n",
              "    </tr>\n",
              "    <tr>\n",
              "      <th>Ljava/net/URL;-&gt;openConnection</th>\n",
              "      <td>0.208664</td>\n",
              "      <td>-0.712211</td>\n",
              "    </tr>\n",
              "    <tr>\n",
              "      <th>Landroid/location/LocationManager;-&gt;getLastK0wnLocation</th>\n",
              "      <td>0.174803</td>\n",
              "      <td>-0.653875</td>\n",
              "    </tr>\n",
              "    <tr>\n",
              "      <th>GET_TASKS</th>\n",
              "      <td>0.158630</td>\n",
              "      <td>0.563214</td>\n",
              "    </tr>\n",
              "    <tr>\n",
              "      <th>KILL_BACKGROUND_PROCESSES</th>\n",
              "      <td>0.106254</td>\n",
              "      <td>0.438312</td>\n",
              "    </tr>\n",
              "    <tr>\n",
              "      <th>...</th>\n",
              "      <td>...</td>\n",
              "      <td>...</td>\n",
              "    </tr>\n",
              "    <tr>\n",
              "      <th>MOUNT_FORMAT_FILESYSTEMS</th>\n",
              "      <td>0.000000</td>\n",
              "      <td>0.063799</td>\n",
              "    </tr>\n",
              "    <tr>\n",
              "      <th>MODIFY_PHONE_STATE</th>\n",
              "      <td>0.000000</td>\n",
              "      <td>0.026908</td>\n",
              "    </tr>\n",
              "    <tr>\n",
              "      <th>MEDIA_CONTENT_CONTROL</th>\n",
              "      <td>0.000000</td>\n",
              "      <td>0.015230</td>\n",
              "    </tr>\n",
              "    <tr>\n",
              "      <th>JPUSH_MESSAGE</th>\n",
              "      <td>0.000000</td>\n",
              "      <td>NaN</td>\n",
              "    </tr>\n",
              "    <tr>\n",
              "      <th>Lorg/apache/http/impl/client/DefaultHttpClient;-&gt;execute</th>\n",
              "      <td>0.000000</td>\n",
              "      <td>-0.001673</td>\n",
              "    </tr>\n",
              "  </tbody>\n",
              "</table>\n",
              "<p>241 rows × 2 columns</p>\n",
              "</div>\n",
              "    <div class=\"colab-df-buttons\">\n",
              "\n",
              "  <div class=\"colab-df-container\">\n",
              "    <button class=\"colab-df-convert\" onclick=\"convertToInteractive('df-82de9400-5bae-4f57-897f-53daff75356f')\"\n",
              "            title=\"Convert this dataframe to an interactive table.\"\n",
              "            style=\"display:none;\">\n",
              "\n",
              "  <svg xmlns=\"http://www.w3.org/2000/svg\" height=\"24px\" viewBox=\"0 -960 960 960\">\n",
              "    <path d=\"M120-120v-720h720v720H120Zm60-500h600v-160H180v160Zm220 220h160v-160H400v160Zm0 220h160v-160H400v160ZM180-400h160v-160H180v160Zm440 0h160v-160H620v160ZM180-180h160v-160H180v160Zm440 0h160v-160H620v160Z\"/>\n",
              "  </svg>\n",
              "    </button>\n",
              "\n",
              "  <style>\n",
              "    .colab-df-container {\n",
              "      display:flex;\n",
              "      gap: 12px;\n",
              "    }\n",
              "\n",
              "    .colab-df-convert {\n",
              "      background-color: #E8F0FE;\n",
              "      border: none;\n",
              "      border-radius: 50%;\n",
              "      cursor: pointer;\n",
              "      display: none;\n",
              "      fill: #1967D2;\n",
              "      height: 32px;\n",
              "      padding: 0 0 0 0;\n",
              "      width: 32px;\n",
              "    }\n",
              "\n",
              "    .colab-df-convert:hover {\n",
              "      background-color: #E2EBFA;\n",
              "      box-shadow: 0px 1px 2px rgba(60, 64, 67, 0.3), 0px 1px 3px 1px rgba(60, 64, 67, 0.15);\n",
              "      fill: #174EA6;\n",
              "    }\n",
              "\n",
              "    .colab-df-buttons div {\n",
              "      margin-bottom: 4px;\n",
              "    }\n",
              "\n",
              "    [theme=dark] .colab-df-convert {\n",
              "      background-color: #3B4455;\n",
              "      fill: #D2E3FC;\n",
              "    }\n",
              "\n",
              "    [theme=dark] .colab-df-convert:hover {\n",
              "      background-color: #434B5C;\n",
              "      box-shadow: 0px 1px 3px 1px rgba(0, 0, 0, 0.15);\n",
              "      filter: drop-shadow(0px 1px 2px rgba(0, 0, 0, 0.3));\n",
              "      fill: #FFFFFF;\n",
              "    }\n",
              "  </style>\n",
              "\n",
              "    <script>\n",
              "      const buttonEl =\n",
              "        document.querySelector('#df-82de9400-5bae-4f57-897f-53daff75356f button.colab-df-convert');\n",
              "      buttonEl.style.display =\n",
              "        google.colab.kernel.accessAllowed ? 'block' : 'none';\n",
              "\n",
              "      async function convertToInteractive(key) {\n",
              "        const element = document.querySelector('#df-82de9400-5bae-4f57-897f-53daff75356f');\n",
              "        const dataTable =\n",
              "          await google.colab.kernel.invokeFunction('convertToInteractive',\n",
              "                                                    [key], {});\n",
              "        if (!dataTable) return;\n",
              "\n",
              "        const docLinkHtml = 'Like what you see? Visit the ' +\n",
              "          '<a target=\"_blank\" href=https://colab.research.google.com/notebooks/data_table.ipynb>data table notebook</a>'\n",
              "          + ' to learn more about interactive tables.';\n",
              "        element.innerHTML = '';\n",
              "        dataTable['output_type'] = 'display_data';\n",
              "        await google.colab.output.renderOutput(dataTable, element);\n",
              "        const docLink = document.createElement('div');\n",
              "        docLink.innerHTML = docLinkHtml;\n",
              "        element.appendChild(docLink);\n",
              "      }\n",
              "    </script>\n",
              "  </div>\n",
              "\n",
              "\n",
              "<div id=\"df-79cf61ec-d4aa-4616-a2c3-33c607f9970a\">\n",
              "  <button class=\"colab-df-quickchart\" onclick=\"quickchart('df-79cf61ec-d4aa-4616-a2c3-33c607f9970a')\"\n",
              "            title=\"Suggest charts\"\n",
              "            style=\"display:none;\">\n",
              "\n",
              "<svg xmlns=\"http://www.w3.org/2000/svg\" height=\"24px\"viewBox=\"0 0 24 24\"\n",
              "     width=\"24px\">\n",
              "    <g>\n",
              "        <path d=\"M19 3H5c-1.1 0-2 .9-2 2v14c0 1.1.9 2 2 2h14c1.1 0 2-.9 2-2V5c0-1.1-.9-2-2-2zM9 17H7v-7h2v7zm4 0h-2V7h2v10zm4 0h-2v-4h2v4z\"/>\n",
              "    </g>\n",
              "</svg>\n",
              "  </button>\n",
              "\n",
              "<style>\n",
              "  .colab-df-quickchart {\n",
              "      --bg-color: #E8F0FE;\n",
              "      --fill-color: #1967D2;\n",
              "      --hover-bg-color: #E2EBFA;\n",
              "      --hover-fill-color: #174EA6;\n",
              "      --disabled-fill-color: #AAA;\n",
              "      --disabled-bg-color: #DDD;\n",
              "  }\n",
              "\n",
              "  [theme=dark] .colab-df-quickchart {\n",
              "      --bg-color: #3B4455;\n",
              "      --fill-color: #D2E3FC;\n",
              "      --hover-bg-color: #434B5C;\n",
              "      --hover-fill-color: #FFFFFF;\n",
              "      --disabled-bg-color: #3B4455;\n",
              "      --disabled-fill-color: #666;\n",
              "  }\n",
              "\n",
              "  .colab-df-quickchart {\n",
              "    background-color: var(--bg-color);\n",
              "    border: none;\n",
              "    border-radius: 50%;\n",
              "    cursor: pointer;\n",
              "    display: none;\n",
              "    fill: var(--fill-color);\n",
              "    height: 32px;\n",
              "    padding: 0;\n",
              "    width: 32px;\n",
              "  }\n",
              "\n",
              "  .colab-df-quickchart:hover {\n",
              "    background-color: var(--hover-bg-color);\n",
              "    box-shadow: 0 1px 2px rgba(60, 64, 67, 0.3), 0 1px 3px 1px rgba(60, 64, 67, 0.15);\n",
              "    fill: var(--button-hover-fill-color);\n",
              "  }\n",
              "\n",
              "  .colab-df-quickchart-complete:disabled,\n",
              "  .colab-df-quickchart-complete:disabled:hover {\n",
              "    background-color: var(--disabled-bg-color);\n",
              "    fill: var(--disabled-fill-color);\n",
              "    box-shadow: none;\n",
              "  }\n",
              "\n",
              "  .colab-df-spinner {\n",
              "    border: 2px solid var(--fill-color);\n",
              "    border-color: transparent;\n",
              "    border-bottom-color: var(--fill-color);\n",
              "    animation:\n",
              "      spin 1s steps(1) infinite;\n",
              "  }\n",
              "\n",
              "  @keyframes spin {\n",
              "    0% {\n",
              "      border-color: transparent;\n",
              "      border-bottom-color: var(--fill-color);\n",
              "      border-left-color: var(--fill-color);\n",
              "    }\n",
              "    20% {\n",
              "      border-color: transparent;\n",
              "      border-left-color: var(--fill-color);\n",
              "      border-top-color: var(--fill-color);\n",
              "    }\n",
              "    30% {\n",
              "      border-color: transparent;\n",
              "      border-left-color: var(--fill-color);\n",
              "      border-top-color: var(--fill-color);\n",
              "      border-right-color: var(--fill-color);\n",
              "    }\n",
              "    40% {\n",
              "      border-color: transparent;\n",
              "      border-right-color: var(--fill-color);\n",
              "      border-top-color: var(--fill-color);\n",
              "    }\n",
              "    60% {\n",
              "      border-color: transparent;\n",
              "      border-right-color: var(--fill-color);\n",
              "    }\n",
              "    80% {\n",
              "      border-color: transparent;\n",
              "      border-right-color: var(--fill-color);\n",
              "      border-bottom-color: var(--fill-color);\n",
              "    }\n",
              "    90% {\n",
              "      border-color: transparent;\n",
              "      border-bottom-color: var(--fill-color);\n",
              "    }\n",
              "  }\n",
              "</style>\n",
              "\n",
              "  <script>\n",
              "    async function quickchart(key) {\n",
              "      const quickchartButtonEl =\n",
              "        document.querySelector('#' + key + ' button');\n",
              "      quickchartButtonEl.disabled = true;  // To prevent multiple clicks.\n",
              "      quickchartButtonEl.classList.add('colab-df-spinner');\n",
              "      try {\n",
              "        const charts = await google.colab.kernel.invokeFunction(\n",
              "            'suggestCharts', [key], {});\n",
              "      } catch (error) {\n",
              "        console.error('Error during call to suggestCharts:', error);\n",
              "      }\n",
              "      quickchartButtonEl.classList.remove('colab-df-spinner');\n",
              "      quickchartButtonEl.classList.add('colab-df-quickchart-complete');\n",
              "    }\n",
              "    (() => {\n",
              "      let quickchartButtonEl =\n",
              "        document.querySelector('#df-79cf61ec-d4aa-4616-a2c3-33c607f9970a button');\n",
              "      quickchartButtonEl.style.display =\n",
              "        google.colab.kernel.accessAllowed ? 'block' : 'none';\n",
              "    })();\n",
              "  </script>\n",
              "</div>\n",
              "\n",
              "    </div>\n",
              "  </div>\n"
            ],
            "application/vnd.google.colaboratory.intrinsic+json": {
              "type": "dataframe",
              "summary": "{\n  \"name\": \"feature_importance\",\n  \"rows\": 241,\n  \"fields\": [\n    {\n      \"column\": \"Mutual Inf\",\n      \"properties\": {\n        \"dtype\": \"number\",\n        \"std\": 0.02862756582371829,\n        \"min\": 0.0,\n        \"max\": 0.23949023019865812,\n        \"num_unique_values\": 162,\n        \"samples\": [\n          0.0003143335572461936,\n          0.003564688163654406,\n          0.002243122768039507\n        ],\n        \"semantic_type\": \"\",\n        \"description\": \"\"\n      }\n    },\n    {\n      \"column\": \"Point-BiSerial\",\n      \"properties\": {\n        \"dtype\": \"number\",\n        \"std\": 0.15632643968357804,\n        \"min\": -0.7122108610852829,\n        \"max\": 0.7604173299576897,\n        \"num_unique_values\": 139,\n        \"samples\": [\n          0.06379905117670934,\n          -0.024456378322212043,\n          0.03534045544203102\n        ],\n        \"semantic_type\": \"\",\n        \"description\": \"\"\n      }\n    }\n  ]\n}"
            }
          },
          "metadata": {},
          "execution_count": 122
        }
      ]
    },
    {
      "cell_type": "code",
      "source": [
        "# drop highly correlated features\n",
        "X.drop(['RECEIVE_BOOT_COMPLETED', 'GET_TASKS', 'Ljava/net/URL;->openConnection'], axis = 1, inplace = True)"
      ],
      "metadata": {
        "id": "sdlhUd6L-AeX"
      },
      "execution_count": null,
      "outputs": []
    },
    {
      "cell_type": "code",
      "source": [
        "print(X.columns)\n"
      ],
      "metadata": {
        "id": "p1q-Ienq-9vT",
        "colab": {
          "base_uri": "https://localhost:8080/"
        },
        "outputId": "d564466f-4d26-4a6a-f9c0-5e94f556ef98"
      },
      "execution_count": null,
      "outputs": [
        {
          "output_type": "stream",
          "name": "stdout",
          "text": [
            "Index(['ACCESS_ALL_DOWNLOADS', 'ACCESS_CACHE_FILESYSTEM',\n",
            "       'ACCESS_CHECKIN_PROPERTIES', 'ACCESS_COARSE_LOCATION',\n",
            "       'ACCESS_COARSE_UPDATES', 'ACCESS_FINE_LOCATION',\n",
            "       'ACCESS_LOCATION_EXTRA_COMMANDS', 'ACCESS_MOCK_LOCATION',\n",
            "       'ACCESS_MTK_MMHW', 'ACCESS_NETWORK_STATE',\n",
            "       ...\n",
            "       'Landroid/content/pm/PackageManager;->getInstalledPackages',\n",
            "       'Landroid/telephony/TelephonyManager;->getLine1Number',\n",
            "       'Landroid/telephony/TelephonyManager;->getNetworkOperator',\n",
            "       'Landroid/telephony/TelephonyManager;->getNetworkOperatorName',\n",
            "       'Landroid/telephony/TelephonyManager;->getNetworkCountryIso',\n",
            "       'Landroid/telephony/TelephonyManager;->getSimOperator',\n",
            "       'Landroid/telephony/TelephonyManager;->getSimOperatorName',\n",
            "       'Landroid/telephony/TelephonyManager;->getSimCountryIso',\n",
            "       'Landroid/telephony/TelephonyManager;->getSimSerialNumber',\n",
            "       'Lorg/apache/http/impl/client/DefaultHttpClient;->execute'],\n",
            "      dtype='object', length=238)\n"
          ]
        }
      ]
    },
    {
      "cell_type": "code",
      "source": [
        "SEED = 30\n",
        "X_train, X_test, y_train, y_test = train_test_split(X,y, test_size = 0.25, shuffle = True, random_state = SEED)\n",
        "\n",
        "print('train samples ->', X_train.shape)\n",
        "print('test samples ->', X_test.shape)"
      ],
      "metadata": {
        "id": "LF4tTHVs_SUB",
        "colab": {
          "base_uri": "https://localhost:8080/"
        },
        "outputId": "f03c8f82-d8d1-413d-e5dd-21c063195017"
      },
      "execution_count": null,
      "outputs": [
        {
          "output_type": "stream",
          "name": "stdout",
          "text": [
            "train samples -> (3348, 238)\n",
            "test samples -> (1116, 238)\n"
          ]
        }
      ]
    },
    {
      "cell_type": "code",
      "source": [
        "# Scaling numerical data\n",
        "MM = MinMaxScaler()\n",
        "MM_fit = MM.fit(X_train)\n",
        "X_train = MM_fit.transform(X_train)\n",
        "X_test = MM_fit.transform(X_test)\n"
      ],
      "metadata": {
        "id": "ubShP1tT_fw4"
      },
      "execution_count": null,
      "outputs": []
    },
    {
      "cell_type": "code",
      "source": [
        "# Initialize the SVM model\n",
        "model = SVC(kernel='linear', random_state=SEED)\n",
        "\n",
        "# Train the model on the training data\n",
        "model.fit(X_train, y_train)\n",
        "\n"
      ],
      "metadata": {
        "colab": {
          "base_uri": "https://localhost:8080/",
          "height": 74
        },
        "id": "1ev8YiH3EVt4",
        "outputId": "8b8fb2dc-4e89-450e-8331-d25d8dd7d59d"
      },
      "execution_count": null,
      "outputs": [
        {
          "output_type": "execute_result",
          "data": {
            "text/plain": [
              "SVC(kernel='linear', random_state=30)"
            ],
            "text/html": [
              "<style>#sk-container-id-4 {color: black;background-color: white;}#sk-container-id-4 pre{padding: 0;}#sk-container-id-4 div.sk-toggleable {background-color: white;}#sk-container-id-4 label.sk-toggleable__label {cursor: pointer;display: block;width: 100%;margin-bottom: 0;padding: 0.3em;box-sizing: border-box;text-align: center;}#sk-container-id-4 label.sk-toggleable__label-arrow:before {content: \"▸\";float: left;margin-right: 0.25em;color: #696969;}#sk-container-id-4 label.sk-toggleable__label-arrow:hover:before {color: black;}#sk-container-id-4 div.sk-estimator:hover label.sk-toggleable__label-arrow:before {color: black;}#sk-container-id-4 div.sk-toggleable__content {max-height: 0;max-width: 0;overflow: hidden;text-align: left;background-color: #f0f8ff;}#sk-container-id-4 div.sk-toggleable__content pre {margin: 0.2em;color: black;border-radius: 0.25em;background-color: #f0f8ff;}#sk-container-id-4 input.sk-toggleable__control:checked~div.sk-toggleable__content {max-height: 200px;max-width: 100%;overflow: auto;}#sk-container-id-4 input.sk-toggleable__control:checked~label.sk-toggleable__label-arrow:before {content: \"▾\";}#sk-container-id-4 div.sk-estimator input.sk-toggleable__control:checked~label.sk-toggleable__label {background-color: #d4ebff;}#sk-container-id-4 div.sk-label input.sk-toggleable__control:checked~label.sk-toggleable__label {background-color: #d4ebff;}#sk-container-id-4 input.sk-hidden--visually {border: 0;clip: rect(1px 1px 1px 1px);clip: rect(1px, 1px, 1px, 1px);height: 1px;margin: -1px;overflow: hidden;padding: 0;position: absolute;width: 1px;}#sk-container-id-4 div.sk-estimator {font-family: monospace;background-color: #f0f8ff;border: 1px dotted black;border-radius: 0.25em;box-sizing: border-box;margin-bottom: 0.5em;}#sk-container-id-4 div.sk-estimator:hover {background-color: #d4ebff;}#sk-container-id-4 div.sk-parallel-item::after {content: \"\";width: 100%;border-bottom: 1px solid gray;flex-grow: 1;}#sk-container-id-4 div.sk-label:hover label.sk-toggleable__label {background-color: #d4ebff;}#sk-container-id-4 div.sk-serial::before {content: \"\";position: absolute;border-left: 1px solid gray;box-sizing: border-box;top: 0;bottom: 0;left: 50%;z-index: 0;}#sk-container-id-4 div.sk-serial {display: flex;flex-direction: column;align-items: center;background-color: white;padding-right: 0.2em;padding-left: 0.2em;position: relative;}#sk-container-id-4 div.sk-item {position: relative;z-index: 1;}#sk-container-id-4 div.sk-parallel {display: flex;align-items: stretch;justify-content: center;background-color: white;position: relative;}#sk-container-id-4 div.sk-item::before, #sk-container-id-4 div.sk-parallel-item::before {content: \"\";position: absolute;border-left: 1px solid gray;box-sizing: border-box;top: 0;bottom: 0;left: 50%;z-index: -1;}#sk-container-id-4 div.sk-parallel-item {display: flex;flex-direction: column;z-index: 1;position: relative;background-color: white;}#sk-container-id-4 div.sk-parallel-item:first-child::after {align-self: flex-end;width: 50%;}#sk-container-id-4 div.sk-parallel-item:last-child::after {align-self: flex-start;width: 50%;}#sk-container-id-4 div.sk-parallel-item:only-child::after {width: 0;}#sk-container-id-4 div.sk-dashed-wrapped {border: 1px dashed gray;margin: 0 0.4em 0.5em 0.4em;box-sizing: border-box;padding-bottom: 0.4em;background-color: white;}#sk-container-id-4 div.sk-label label {font-family: monospace;font-weight: bold;display: inline-block;line-height: 1.2em;}#sk-container-id-4 div.sk-label-container {text-align: center;}#sk-container-id-4 div.sk-container {/* jupyter's `normalize.less` sets `[hidden] { display: none; }` but bootstrap.min.css set `[hidden] { display: none !important; }` so we also need the `!important` here to be able to override the default hidden behavior on the sphinx rendered scikit-learn.org. See: https://github.com/scikit-learn/scikit-learn/issues/21755 */display: inline-block !important;position: relative;}#sk-container-id-4 div.sk-text-repr-fallback {display: none;}</style><div id=\"sk-container-id-4\" class=\"sk-top-container\"><div class=\"sk-text-repr-fallback\"><pre>SVC(kernel=&#x27;linear&#x27;, random_state=30)</pre><b>In a Jupyter environment, please rerun this cell to show the HTML representation or trust the notebook. <br />On GitHub, the HTML representation is unable to render, please try loading this page with nbviewer.org.</b></div><div class=\"sk-container\" hidden><div class=\"sk-item\"><div class=\"sk-estimator sk-toggleable\"><input class=\"sk-toggleable__control sk-hidden--visually\" id=\"sk-estimator-id-4\" type=\"checkbox\" checked><label for=\"sk-estimator-id-4\" class=\"sk-toggleable__label sk-toggleable__label-arrow\">SVC</label><div class=\"sk-toggleable__content\"><pre>SVC(kernel=&#x27;linear&#x27;, random_state=30)</pre></div></div></div></div></div>"
            ]
          },
          "metadata": {},
          "execution_count": 127
        }
      ]
    },
    {
      "cell_type": "code",
      "source": [
        "# Make predictions\n",
        "pred = model.predict(X_test)\n",
        "\n",
        "# Calculate Mean Squared Error and Accuracy Score\n",
        "acc = accuracy_score(y_test, pred)\n",
        "\n",
        "print('Mean Squared Error : {0:.5f}'.format(mse))\n",
        "print('Accuracy Score : {0:.2f} %'.format(acc * 100))"
      ],
      "metadata": {
        "id": "gaCqOL1T_pip",
        "colab": {
          "base_uri": "https://localhost:8080/"
        },
        "outputId": "e4a99087-6797-4cd4-969d-b3eaf0934a2b"
      },
      "execution_count": null,
      "outputs": [
        {
          "output_type": "stream",
          "name": "stdout",
          "text": [
            "Mean Squared Error : 0.02061\n",
            "Accuracy Score : 97.94 %\n"
          ]
        }
      ]
    },
    {
      "cell_type": "code",
      "source": [
        "# classification report\n",
        "\n",
        "clf_report = classification_report(pred, y_test, target_names = list(classes.values()))\n",
        "print(clf_report)\n",
        "# Generate confusion matrix and plot it\n",
        "cm = confusion_matrix(y_test, pred)\n",
        "cmd = ConfusionMatrixDisplay(cm, display_labels=list(classes.values()))\n",
        "\n",
        "fig, ax = plt.subplots(figsize=(5, 5))\n",
        "cmd.plot(ax=ax, cmap='BuPu', colorbar=False)"
      ],
      "metadata": {
        "id": "fwkQYy7bAszV",
        "colab": {
          "base_uri": "https://localhost:8080/",
          "height": 647
        },
        "outputId": "1496d41a-61ff-4ac4-e21d-8195a50b51da"
      },
      "execution_count": null,
      "outputs": [
        {
          "output_type": "stream",
          "name": "stdout",
          "text": [
            "              precision    recall  f1-score   support\n",
            "\n",
            "    Goodware       0.95      0.95      0.95       231\n",
            "     Malware       0.99      0.99      0.99       885\n",
            "\n",
            "    accuracy                           0.98      1116\n",
            "   macro avg       0.97      0.97      0.97      1116\n",
            "weighted avg       0.98      0.98      0.98      1116\n",
            "\n"
          ]
        },
        {
          "output_type": "execute_result",
          "data": {
            "text/plain": [
              "<sklearn.metrics._plot.confusion_matrix.ConfusionMatrixDisplay at 0x7d354741dd20>"
            ]
          },
          "metadata": {},
          "execution_count": 129
        },
        {
          "output_type": "display_data",
          "data": {
            "text/plain": [
              "<Figure size 500x500 with 1 Axes>"
            ],
            "image/png": "[encoded data removed]"
          },
          "metadata": {}
        }
      ]
    },
    {
      "cell_type": "code",
      "source": [
        "\n",
        "\n",
        "# Define GA hyperparameters\n",
        "size = 100  # Population size\n",
        "n_feat = X_train.shape[1]  # Number of features\n",
        "n_parents = 50  # Number of parents to select\n",
        "mutation_rate = 0.1  # Mutation rate\n",
        "n_gen = 100  # Number of generations"
      ],
      "metadata": {
        "id": "Sde81-J3sWbK"
      },
      "execution_count": null,
      "outputs": []
    },
    {
      "cell_type": "code",
      "source": [
        "# Function for initialization of population in GA\n",
        "def initialization_of_population(size, n_feat):\n",
        "    population = []\n",
        "    for i in range(size):\n",
        "        chromosome = np.ones(n_feat, dtype=bool)\n",
        "        chromosome[:int(0.3 * n_feat)] = False\n",
        "        np.random.shuffle(chromosome)\n",
        "        population.append(chromosome)\n",
        "    return population"
      ],
      "metadata": {
        "id": "AiRw8sg9tp-S"
      },
      "execution_count": null,
      "outputs": []
    },
    {
      "cell_type": "code",
      "source": [
        "def fitness_score(population):\n",
        "    scores = []\n",
        "    for chromosome in population:\n",
        "        model.fit(X_train[:, chromosome], y_train)\n",
        "        predictions = model.predict(X_test[:, chromosome])\n",
        "        scores.append(accuracy_score(y_test, predictions))\n",
        "    scores, population = np.array(scores), np.array(population)\n",
        "    inds = np.argsort(scores)\n",
        "    return list(scores[inds][::-1]), list(population[inds, :][::-1])"
      ],
      "metadata": {
        "id": "WIja7zyNtyA8"
      },
      "execution_count": null,
      "outputs": []
    },
    {
      "cell_type": "code",
      "source": [
        "# Function for selection in GA\n",
        "def selection(pop_after_fit, n_parents):\n",
        "    population_nextgen = []\n",
        "    for i in range(n_parents):\n",
        "        population_nextgen.append(pop_after_fit[i])\n",
        "    return population_nextgen"
      ],
      "metadata": {
        "id": "ZqSo6I68xTN9"
      },
      "execution_count": null,
      "outputs": []
    },
    {
      "cell_type": "code",
      "source": [
        "# Function for crossover in GA\n",
        "def crossover(pop_after_sel):\n",
        "    pop_nextgen = pop_after_sel\n",
        "    for i in range(0, len(pop_after_sel), 2):\n",
        "        new_par = []\n",
        "        child_1, child_2 = pop_nextgen[i], pop_nextgen[i + 1]\n",
        "        new_par = np.concatenate((child_1[:len(child_1) // 2], child_2[len(child_1) // 2:]))\n",
        "        pop_nextgen.append(new_par)\n",
        "    return pop_nextgen"
      ],
      "metadata": {
        "id": "YSZd-d5HxUSu"
      },
      "execution_count": null,
      "outputs": []
    },
    {
      "cell_type": "code",
      "source": [
        "# Function for mutation in GA\n",
        "def mutation(pop_after_cross, mutation_rate, n_feat):\n",
        "    mutation_range = int(mutation_rate * n_feat)\n",
        "    pop_next_gen = []\n",
        "    for n in range(0, len(pop_after_cross)):\n",
        "        chromo = pop_after_cross[n]\n",
        "        rand_posi = []\n",
        "        for i in range(0, mutation_range):\n",
        "            pos = np.random.randint(0, n_feat - 1)\n",
        "            rand_posi.append(pos)\n",
        "        for j in rand_posi:\n",
        "            chromo[j] = not chromo[j]\n",
        "        pop_next_gen.append(chromo)\n",
        "    return pop_next_gen"
      ],
      "metadata": {
        "id": "6e7hd_KZxYwF"
      },
      "execution_count": null,
      "outputs": []
    },
    {
      "cell_type": "code",
      "source": [
        "# Function for GA generations\n",
        "def generations(size, n_feat, n_parents, mutation_rate, n_gen, X_train, X_test, y_train, y_test):\n",
        "    best_chromo = []\n",
        "    best_score = []\n",
        "    population_nextgen = initialization_of_population(size, n_feat)\n",
        "    for i in range(n_gen):\n",
        "        scores, pop_after_fit = fitness_score(population_nextgen)\n",
        "        print('Best score in generation', i + 1, ':', scores[:1])  # Print best score in each generation\n",
        "        pop_after_sel = selection(pop_after_fit, n_parents)\n",
        "        pop_after_cross = crossover(pop_after_sel)\n",
        "        population_nextgen = mutation(pop_after_cross, mutation_rate, n_feat)\n",
        "        best_chromo.append(pop_after_fit[0])\n",
        "        best_score.append(scores[0])\n",
        "    return best_chromo, best_score"
      ],
      "metadata": {
        "id": "dZLgvod0xbn9"
      },
      "execution_count": null,
      "outputs": []
    },
    {
      "cell_type": "code",
      "source": [
        "# Run GA after hyperparameter optimization\n",
        "best_chromo, best_score = generations(size, n_feat, n_parents, mutation_rate, n_gen,\n",
        "                                                               X_train, X_test, y_train, y_test)"
      ],
      "metadata": {
        "colab": {
          "base_uri": "https://localhost:8080/"
        },
        "id": "UndvdWsaxe3J",
        "outputId": "e6173036-8894-483e-d47c-1081ad8e7542"
      },
      "execution_count": null,
      "outputs": [
        {
          "output_type": "stream",
          "name": "stdout",
          "text": [
            "Best score in generation 1 : [0.9802867383512545]\n",
            "Best score in generation 2 : [0.9811827956989247]\n",
            "Best score in generation 3 : [0.9811827956989247]\n",
            "Best score in generation 4 : [0.9802867383512545]\n",
            "Best score in generation 5 : [0.9838709677419355]\n",
            "Best score in generation 6 : [0.9802867383512545]\n",
            "Best score in generation 7 : [0.9793906810035843]\n",
            "Best score in generation 8 : [0.9811827956989247]\n",
            "Best score in generation 9 : [0.9802867383512545]\n",
            "Best score in generation 10 : [0.9802867383512545]\n",
            "Best score in generation 11 : [0.9802867383512545]\n",
            "Best score in generation 12 : [0.978494623655914]\n",
            "Best score in generation 13 : [0.978494623655914]\n",
            "Best score in generation 14 : [0.9793906810035843]\n",
            "Best score in generation 15 : [0.9775985663082437]\n",
            "Best score in generation 16 : [0.9811827956989247]\n",
            "Best score in generation 17 : [0.9793906810035843]\n",
            "Best score in generation 18 : [0.9811827956989247]\n",
            "Best score in generation 19 : [0.9802867383512545]\n",
            "Best score in generation 20 : [0.9802867383512545]\n",
            "Best score in generation 21 : [0.982078853046595]\n",
            "Best score in generation 22 : [0.9802867383512545]\n",
            "Best score in generation 23 : [0.982078853046595]\n",
            "Best score in generation 24 : [0.982078853046595]\n",
            "Best score in generation 25 : [0.9802867383512545]\n",
            "Best score in generation 26 : [0.9802867383512545]\n",
            "Best score in generation 27 : [0.982078853046595]\n",
            "Best score in generation 28 : [0.9793906810035843]\n",
            "Best score in generation 29 : [0.9793906810035843]\n",
            "Best score in generation 30 : [0.9802867383512545]\n",
            "Best score in generation 31 : [0.9811827956989247]\n",
            "Best score in generation 32 : [0.9802867383512545]\n",
            "Best score in generation 33 : [0.982078853046595]\n",
            "Best score in generation 34 : [0.9802867383512545]\n",
            "Best score in generation 35 : [0.9802867383512545]\n",
            "Best score in generation 36 : [0.9829749103942652]\n",
            "Best score in generation 37 : [0.9793906810035843]\n",
            "Best score in generation 38 : [0.9793906810035843]\n",
            "Best score in generation 39 : [0.9793906810035843]\n",
            "Best score in generation 40 : [0.9793906810035843]\n",
            "Best score in generation 41 : [0.978494623655914]\n",
            "Best score in generation 42 : [0.9802867383512545]\n",
            "Best score in generation 43 : [0.978494623655914]\n",
            "Best score in generation 44 : [0.9811827956989247]\n",
            "Best score in generation 45 : [0.9829749103942652]\n",
            "Best score in generation 46 : [0.982078853046595]\n",
            "Best score in generation 47 : [0.9838709677419355]\n",
            "Best score in generation 48 : [0.9802867383512545]\n",
            "Best score in generation 49 : [0.9802867383512545]\n",
            "Best score in generation 50 : [0.9811827956989247]\n",
            "Best score in generation 51 : [0.9829749103942652]\n",
            "Best score in generation 52 : [0.982078853046595]\n",
            "Best score in generation 53 : [0.9793906810035843]\n",
            "Best score in generation 54 : [0.978494623655914]\n",
            "Best score in generation 55 : [0.9793906810035843]\n",
            "Best score in generation 56 : [0.9793906810035843]\n",
            "Best score in generation 57 : [0.9811827956989247]\n",
            "Best score in generation 58 : [0.982078853046595]\n",
            "Best score in generation 59 : [0.9811827956989247]\n",
            "Best score in generation 60 : [0.9802867383512545]\n",
            "Best score in generation 61 : [0.9811827956989247]\n",
            "Best score in generation 62 : [0.9838709677419355]\n",
            "Best score in generation 63 : [0.9829749103942652]\n",
            "Best score in generation 64 : [0.9838709677419355]\n",
            "Best score in generation 65 : [0.9829749103942652]\n",
            "Best score in generation 66 : [0.9811827956989247]\n",
            "Best score in generation 67 : [0.9811827956989247]\n",
            "Best score in generation 68 : [0.9793906810035843]\n",
            "Best score in generation 69 : [0.9802867383512545]\n",
            "Best score in generation 70 : [0.9802867383512545]\n",
            "Best score in generation 71 : [0.9793906810035843]\n",
            "Best score in generation 72 : [0.982078853046595]\n",
            "Best score in generation 73 : [0.9802867383512545]\n",
            "Best score in generation 74 : [0.982078853046595]\n",
            "Best score in generation 75 : [0.9829749103942652]\n",
            "Best score in generation 76 : [0.982078853046595]\n",
            "Best score in generation 77 : [0.982078853046595]\n",
            "Best score in generation 78 : [0.982078853046595]\n",
            "Best score in generation 79 : [0.9811827956989247]\n",
            "Best score in generation 80 : [0.982078853046595]\n",
            "Best score in generation 81 : [0.9811827956989247]\n",
            "Best score in generation 82 : [0.9793906810035843]\n",
            "Best score in generation 83 : [0.9811827956989247]\n",
            "Best score in generation 84 : [0.982078853046595]\n",
            "Best score in generation 85 : [0.9802867383512545]\n",
            "Best score in generation 86 : [0.9811827956989247]\n",
            "Best score in generation 87 : [0.9793906810035843]\n",
            "Best score in generation 88 : [0.9811827956989247]\n",
            "Best score in generation 89 : [0.9811827956989247]\n",
            "Best score in generation 90 : [0.9811827956989247]\n",
            "Best score in generation 91 : [0.9802867383512545]\n",
            "Best score in generation 92 : [0.9802867383512545]\n",
            "Best score in generation 93 : [0.9793906810035843]\n",
            "Best score in generation 94 : [0.9793906810035843]\n",
            "Best score in generation 95 : [0.9793906810035843]\n",
            "Best score in generation 96 : [0.9802867383512545]\n",
            "Best score in generation 97 : [0.9793906810035843]\n",
            "Best score in generation 98 : [0.9811827956989247]\n",
            "Best score in generation 99 : [0.9802867383512545]\n",
            "Best score in generation 100 : [0.9802867383512545]\n"
          ]
        }
      ]
    },
    {
      "cell_type": "code",
      "source": [
        "# Get the best chromosome\n",
        "best_chromosome = best_chromo[-1]\n",
        "\n",
        "# Filter features based on the best chromosome\n",
        "selected_features = X.columns[best_chromosome]\n",
        "\n",
        "print(\"Best features selected by GA:\")\n",
        "print(selected_features)\n"
      ],
      "metadata": {
        "colab": {
          "base_uri": "https://localhost:8080/"
        },
        "id": "sf8UEV9p982c",
        "outputId": "b718e78e-2224-48cb-bf23-c0c247b8c11a"
      },
      "execution_count": null,
      "outputs": [
        {
          "output_type": "stream",
          "name": "stdout",
          "text": [
            "Best features selected by GA:\n",
            "Index(['ACCESS_COARSE_LOCATION', 'ACCESS_FINE_LOCATION',\n",
            "       'ACCESS_LOCATION_EXTRA_COMMANDS', 'ACCESS_MTK_MMHW',\n",
            "       'ACCESS_NETWORK_STATE', 'ACCESS_WIFI_STATE', 'ADD_VOICEMAIL',\n",
            "       'ANT_ADMIN', 'AUTORUN_MANAGER_LICENSE_MANAGER',\n",
            "       'AUTORUN_MANAGER_LICENSE_SERVICE(.autorun)',\n",
            "       ...\n",
            "       'Lcom/google/android/gms/location/LocationClient;->getLastLocation',\n",
            "       'Landroid/location/LocationManager;->getLastK0wnLocation',\n",
            "       'Landroid/content/pm/PackageManager;->getInstalledApplications',\n",
            "       'Landroid/content/pm/PackageManager;->getInstalledPackages',\n",
            "       'Landroid/telephony/TelephonyManager;->getLine1Number',\n",
            "       'Landroid/telephony/TelephonyManager;->getNetworkOperator',\n",
            "       'Landroid/telephony/TelephonyManager;->getNetworkOperatorName',\n",
            "       'Landroid/telephony/TelephonyManager;->getNetworkCountryIso',\n",
            "       'Landroid/telephony/TelephonyManager;->getSimCountryIso',\n",
            "       'Landroid/telephony/TelephonyManager;->getSimSerialNumber'],\n",
            "      dtype='object', length=115)\n"
          ]
        }
      ]
    },
    {
      "cell_type": "code",
      "source": [
        "# Select only the best features for training\n",
        "X_train_ga = X_train[:, best_chromosome]\n",
        "X_test_ga = X_test[:, best_chromosome]\n",
        "\n",
        "# Initialize and train SVM model using the best features selected by GA\n",
        "model_ga = SVC(kernel='linear', random_state=SEED)\n",
        "model_ga.fit(X_train_ga, y_train)\n"
      ],
      "metadata": {
        "colab": {
          "base_uri": "https://localhost:8080/",
          "height": 74
        },
        "id": "6f90RqVK_eiZ",
        "outputId": "0f4c82ba-f59c-4c7e-e64d-c4991cc60466"
      },
      "execution_count": null,
      "outputs": [
        {
          "output_type": "execute_result",
          "data": {
            "text/plain": [
              "SVC(kernel='linear', random_state=30)"
            ],
            "text/html": [
              "<style>#sk-container-id-5 {color: black;background-color: white;}#sk-container-id-5 pre{padding: 0;}#sk-container-id-5 div.sk-toggleable {background-color: white;}#sk-container-id-5 label.sk-toggleable__label {cursor: pointer;display: block;width: 100%;margin-bottom: 0;padding: 0.3em;box-sizing: border-box;text-align: center;}#sk-container-id-5 label.sk-toggleable__label-arrow:before {content: \"▸\";float: left;margin-right: 0.25em;color: #696969;}#sk-container-id-5 label.sk-toggleable__label-arrow:hover:before {color: black;}#sk-container-id-5 div.sk-estimator:hover label.sk-toggleable__label-arrow:before {color: black;}#sk-container-id-5 div.sk-toggleable__content {max-height: 0;max-width: 0;overflow: hidden;text-align: left;background-color: #f0f8ff;}#sk-container-id-5 div.sk-toggleable__content pre {margin: 0.2em;color: black;border-radius: 0.25em;background-color: #f0f8ff;}#sk-container-id-5 input.sk-toggleable__control:checked~div.sk-toggleable__content {max-height: 200px;max-width: 100%;overflow: auto;}#sk-container-id-5 input.sk-toggleable__control:checked~label.sk-toggleable__label-arrow:before {content: \"▾\";}#sk-container-id-5 div.sk-estimator input.sk-toggleable__control:checked~label.sk-toggleable__label {background-color: #d4ebff;}#sk-container-id-5 div.sk-label input.sk-toggleable__control:checked~label.sk-toggleable__label {background-color: #d4ebff;}#sk-container-id-5 input.sk-hidden--visually {border: 0;clip: rect(1px 1px 1px 1px);clip: rect(1px, 1px, 1px, 1px);height: 1px;margin: -1px;overflow: hidden;padding: 0;position: absolute;width: 1px;}#sk-container-id-5 div.sk-estimator {font-family: monospace;background-color: #f0f8ff;border: 1px dotted black;border-radius: 0.25em;box-sizing: border-box;margin-bottom: 0.5em;}#sk-container-id-5 div.sk-estimator:hover {background-color: #d4ebff;}#sk-container-id-5 div.sk-parallel-item::after {content: \"\";width: 100%;border-bottom: 1px solid gray;flex-grow: 1;}#sk-container-id-5 div.sk-label:hover label.sk-toggleable__label {background-color: #d4ebff;}#sk-container-id-5 div.sk-serial::before {content: \"\";position: absolute;border-left: 1px solid gray;box-sizing: border-box;top: 0;bottom: 0;left: 50%;z-index: 0;}#sk-container-id-5 div.sk-serial {display: flex;flex-direction: column;align-items: center;background-color: white;padding-right: 0.2em;padding-left: 0.2em;position: relative;}#sk-container-id-5 div.sk-item {position: relative;z-index: 1;}#sk-container-id-5 div.sk-parallel {display: flex;align-items: stretch;justify-content: center;background-color: white;position: relative;}#sk-container-id-5 div.sk-item::before, #sk-container-id-5 div.sk-parallel-item::before {content: \"\";position: absolute;border-left: 1px solid gray;box-sizing: border-box;top: 0;bottom: 0;left: 50%;z-index: -1;}#sk-container-id-5 div.sk-parallel-item {display: flex;flex-direction: column;z-index: 1;position: relative;background-color: white;}#sk-container-id-5 div.sk-parallel-item:first-child::after {align-self: flex-end;width: 50%;}#sk-container-id-5 div.sk-parallel-item:last-child::after {align-self: flex-start;width: 50%;}#sk-container-id-5 div.sk-parallel-item:only-child::after {width: 0;}#sk-container-id-5 div.sk-dashed-wrapped {border: 1px dashed gray;margin: 0 0.4em 0.5em 0.4em;box-sizing: border-box;padding-bottom: 0.4em;background-color: white;}#sk-container-id-5 div.sk-label label {font-family: monospace;font-weight: bold;display: inline-block;line-height: 1.2em;}#sk-container-id-5 div.sk-label-container {text-align: center;}#sk-container-id-5 div.sk-container {/* jupyter's `normalize.less` sets `[hidden] { display: none; }` but bootstrap.min.css set `[hidden] { display: none !important; }` so we also need the `!important` here to be able to override the default hidden behavior on the sphinx rendered scikit-learn.org. See: https://github.com/scikit-learn/scikit-learn/issues/21755 */display: inline-block !important;position: relative;}#sk-container-id-5 div.sk-text-repr-fallback {display: none;}</style><div id=\"sk-container-id-5\" class=\"sk-top-container\"><div class=\"sk-text-repr-fallback\"><pre>SVC(kernel=&#x27;linear&#x27;, random_state=30)</pre><b>In a Jupyter environment, please rerun this cell to show the HTML representation or trust the notebook. <br />On GitHub, the HTML representation is unable to render, please try loading this page with nbviewer.org.</b></div><div class=\"sk-container\" hidden><div class=\"sk-item\"><div class=\"sk-estimator sk-toggleable\"><input class=\"sk-toggleable__control sk-hidden--visually\" id=\"sk-estimator-id-5\" type=\"checkbox\" checked><label for=\"sk-estimator-id-5\" class=\"sk-toggleable__label sk-toggleable__label-arrow\">SVC</label><div class=\"sk-toggleable__content\"><pre>SVC(kernel=&#x27;linear&#x27;, random_state=30)</pre></div></div></div></div></div>"
            ]
          },
          "metadata": {},
          "execution_count": 139
        }
      ]
    },
    {
      "cell_type": "code",
      "source": [
        "\n",
        "# Make predictions\n",
        "pred_ga = model_ga.predict(X_test_ga)\n",
        "\n",
        "# Evaluate the model\n",
        "acc_ga = accuracy_score(y_test, pred_ga)\n",
        "print('Accuracy Score using selected features by GA: {0:.2f} %'.format(acc_ga * 100))\n",
        "\n",
        "# Classification report\n",
        "clf_report_ga = classification_report(y_test, pred_ga, target_names=list(classes.values()))\n",
        "print(\"Classification Report using selected features by GA:\")\n",
        "print(clf_report_ga)"
      ],
      "metadata": {
        "colab": {
          "base_uri": "https://localhost:8080/"
        },
        "id": "jOdPsqmg_gVh",
        "outputId": "364b0050-cfa7-4ee1-f902-11a1f581427c"
      },
      "execution_count": null,
      "outputs": [
        {
          "output_type": "stream",
          "name": "stdout",
          "text": [
            "Accuracy Score using selected features by GA: 96.86 %\n",
            "Classification Report using selected features by GA:\n",
            "              precision    recall  f1-score   support\n",
            "\n",
            "    Goodware       0.92      0.93      0.92       230\n",
            "     Malware       0.98      0.98      0.98       886\n",
            "\n",
            "    accuracy                           0.97      1116\n",
            "   macro avg       0.95      0.95      0.95      1116\n",
            "weighted avg       0.97      0.97      0.97      1116\n",
            "\n"
          ]
        }
      ]
    },
    {
      "cell_type": "code",
      "source": [
        "# Generate confusion matrix and plot it\n",
        "cm_ga = confusion_matrix(y_test, pred_ga)\n",
        "cmd_ga = ConfusionMatrixDisplay(cm_ga, display_labels=list(classes.values()))\n",
        "\n",
        "fig, ax = plt.subplots(figsize=(5, 5))\n",
        "cmd_ga.plot(ax=ax, cmap='BuPu', colorbar=False)\n",
        "plt.title(\"Confusion Matrix using selected features by GA\")\n",
        "plt.show()"
      ],
      "metadata": {
        "colab": {
          "base_uri": "https://localhost:8080/",
          "height": 487
        },
        "id": "0ET3W-Ud_t_3",
        "outputId": "ae60f92b-6a7a-4d18-a161-5d98a0f3488d"
      },
      "execution_count": null,
      "outputs": [
        {
          "output_type": "display_data",
          "data": {
            "text/plain": [
              "<Figure size 500x500 with 1 Axes>"
            ],
            "image/png": "[encoded data removed]"
          },
          "metadata": {}
        }
      ]
    },
    {
      "cell_type": "code",
      "source": [
        "def compare_performance(acc_before, clf_report_before, acc_after, clf_report_after):\n",
        "    # Print accuracy scores\n",
        "    print(\"Accuracy Score:\")\n",
        "    print(\"Before GA: {0:.2f} %\".format(acc_before * 100))\n",
        "    print(\"After GA : {0:.2f} %\".format(acc_after * 100))\n",
        "    print(\"\\n\")\n",
        "\n",
        "    # Print classification reports\n",
        "    print(\"Classification Report:\")\n",
        "    print(\"Before GA:\")\n",
        "    print(clf_report_before)\n",
        "    print(\"After GA :\")\n",
        "    print(clf_report_after)\n",
        "\n",
        "# Call the function with accuracy scores and classification reports before and after GA\n",
        "compare_performance(acc, clf_report, acc_ga, clf_report_ga)\n"
      ],
      "metadata": {
        "colab": {
          "base_uri": "https://localhost:8080/"
        },
        "id": "NsQHIQ-hDUnD",
        "outputId": "304c22b1-5a78-44bd-e098-3967383b8b87"
      },
      "execution_count": null,
      "outputs": [
        {
          "output_type": "stream",
          "name": "stdout",
          "text": [
            "Accuracy Score:\n",
            "Before GA: 97.94 %\n",
            "After GA : 96.86 %\n",
            "\n",
            "\n",
            "Classification Report:\n",
            "Before GA:\n",
            "              precision    recall  f1-score   support\n",
            "\n",
            "    Goodware       0.95      0.95      0.95       231\n",
            "     Malware       0.99      0.99      0.99       885\n",
            "\n",
            "    accuracy                           0.98      1116\n",
            "   macro avg       0.97      0.97      0.97      1116\n",
            "weighted avg       0.98      0.98      0.98      1116\n",
            "\n",
            "After GA :\n",
            "              precision    recall  f1-score   support\n",
            "\n",
            "    Goodware       0.92      0.93      0.92       230\n",
            "     Malware       0.98      0.98      0.98       886\n",
            "\n",
            "    accuracy                           0.97      1116\n",
            "   macro avg       0.95      0.95      0.95      1116\n",
            "weighted avg       0.97      0.97      0.97      1116\n",
            "\n"
          ]
        }
      ]
    }
  ]
}